{
 "cells": [
  {
   "cell_type": "code",
   "execution_count": 4,
   "id": "fd2f3aee",
   "metadata": {},
   "outputs": [
    {
     "name": "stdout",
     "output_type": "stream",
     "text": [
      "1 2 3 4 5 "
     ]
    }
   ],
   "source": [
    "#1) Print Number from 1 to 5\n",
    "for i in range(1,6):\n",
    "    print(i,end=\" \")\n",
    "\n"
   ]
  },
  {
   "cell_type": "code",
   "execution_count": 5,
   "id": "fd4675dd",
   "metadata": {},
   "outputs": [
    {
     "name": "stdout",
     "output_type": "stream",
     "text": [
      "1 4 9 16 25 "
     ]
    }
   ],
   "source": [
    "#2 print squares of number from 1 to 5\n",
    "for i in range(1,6):\n",
    "    print(i**2,end=\" \")\n",
    "    "
   ]
  },
  {
   "cell_type": "code",
   "execution_count": 8,
   "id": "68fbc87b",
   "metadata": {},
   "outputs": [
    {
     "name": "stdout",
     "output_type": "stream",
     "text": [
      "2  4  6  8  10  "
     ]
    }
   ],
   "source": [
    "#3 print numbers even numbers from  1 to 10\n",
    "for i in range(1,11):\n",
    "    if i%2==0:\n",
    "        print(i,end='  ')\n",
    "    "
   ]
  },
  {
   "cell_type": "code",
   "execution_count": 15,
   "id": "4dc25b78",
   "metadata": {},
   "outputs": [
    {
     "name": "stdout",
     "output_type": "stream",
     "text": [
      "Sum is 55\n"
     ]
    }
   ],
   "source": [
    "#4  Sum of numbers from 1 to 10 \n",
    "count=0\n",
    "for i in range(1,11):\n",
    "    count+=i\n",
    "print(f\"Sum is {count}\")\n"
   ]
  },
  {
   "cell_type": "code",
   "execution_count": 16,
   "id": "2afc9ad4",
   "metadata": {},
   "outputs": [
    {
     "name": "stdout",
     "output_type": "stream",
     "text": [
      "n o h t y p "
     ]
    }
   ],
   "source": [
    "#5 Reverse a word \n",
    "word=\"python\"\n",
    "for i in range(len(word)-1,-1,-1):\n",
    "    print(word[i],end=\" \")\n",
    "\n",
    "\n",
    "    \n"
   ]
  },
  {
   "cell_type": "code",
   "execution_count": 20,
   "id": "3eb02745",
   "metadata": {},
   "outputs": [
    {
     "name": "stdout",
     "output_type": "stream",
     "text": [
      "Total vowels in word  is  5\n"
     ]
    }
   ],
   "source": [
    "#6 Write a program to count vowels in a string\n",
    "word='education'\n",
    "vowels=\"aeiou\"\n",
    "count=0\n",
    "for char in word:\n",
    "    if char in vowels:\n",
    "        count+=1\n",
    "print(f\"Total vowels in word  is  {count}\")\n"
   ]
  },
  {
   "cell_type": "code",
   "execution_count": 21,
   "id": "150bcf7b",
   "metadata": {},
   "outputs": [
    {
     "name": "stdout",
     "output_type": "stream",
     "text": [
      "1 1 2 3 5 8 13 21 34 "
     ]
    }
   ],
   "source": [
    "#7  Print Fibonacci Sequence upto 10 terms\n",
    "a=0\n",
    "b=1\n",
    "print(a+b,end=\" \")\n",
    "for _ in range(8):\n",
    "    next_term=a+b\n",
    "    print(next_term,end=\" \")\n",
    "    a,b=b,next_term"
   ]
  },
  {
   "cell_type": "code",
   "execution_count": 22,
   "id": "c3f7244c",
   "metadata": {},
   "outputs": [
    {
     "name": "stdout",
     "output_type": "stream",
     "text": [
      "Factorial of  5 is 120\n"
     ]
    }
   ],
   "source": [
    "#8 Calculate Factorial Of a number\n",
    "n=5\n",
    "factorial=1\n",
    "for i in range(1,n+1):\n",
    "    factorial*=i\n",
    "print(f\"Factorial of  {n} is {factorial}\")\n",
    "\n",
    "\n"
   ]
  },
  {
   "cell_type": "code",
   "execution_count": 26,
   "id": "04dd7815",
   "metadata": {},
   "outputs": [
    {
     "name": "stdout",
     "output_type": "stream",
     "text": [
      "11 is a prime number\n"
     ]
    }
   ],
   "source": [
    "#9 Check the number is prime or not\n",
    "num=11\n",
    "is_prime=True\n",
    "for i in range(2,int(25**0.5)+1):\n",
    "    if num%i==0:\n",
    "        is_prime=False\n",
    "        break\n",
    "if is_prime and num>1:\n",
    "    print (num ,\"is a prime number\")\n",
    "else:\n",
    "    print(num, \"is not a prime number\")\n",
    "\n",
    "\n",
    "    "
   ]
  },
  {
   "cell_type": "code",
   "execution_count": 27,
   "id": "ae73bf91",
   "metadata": {},
   "outputs": [
    {
     "name": "stdout",
     "output_type": "stream",
     "text": [
      "A: 1\n",
      "h: 1\n",
      "e: 2\n",
      "m: 1\n",
      "d: 2\n",
      "a: 2\n",
      "b: 1\n"
     ]
    }
   ],
   "source": [
    "#10 Count Occurances for each charecter in a strings\n",
    "word=\"Ahemedabad\"\n",
    "char_count={}\n",
    "for char in word:\n",
    "    if char in char_count:\n",
    "        char_count[char]+=1\n",
    "    else:\n",
    "        char_count[char]=1\n",
    "for char ,count in char_count.items():\n",
    "    print(char+\":\",count)"
   ]
  },
  {
   "cell_type": "code",
   "execution_count": null,
   "id": "2fb70a82",
   "metadata": {},
   "outputs": [],
   "source": [
    "    "
   ]
  }
 ],
 "metadata": {
  "kernelspec": {
   "display_name": "Python 3",
   "language": "python",
   "name": "python3"
  },
  "language_info": {
   "codemirror_mode": {
    "name": "ipython",
    "version": 3
   },
   "file_extension": ".py",
   "mimetype": "text/x-python",
   "name": "python",
   "nbconvert_exporter": "python",
   "pygments_lexer": "ipython3",
   "version": "3.11.9"
  }
 },
 "nbformat": 4,
 "nbformat_minor": 5
}
